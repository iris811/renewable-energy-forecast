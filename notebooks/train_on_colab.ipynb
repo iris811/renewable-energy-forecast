{
 "cells": [
  {
   "cell_type": "markdown",
   "metadata": {},
   "source": [
    "# ⚡ Renewable Energy Forecasting - Google Colab (통합 버전)\n",
    "\n",
    "## 🎯 시작하기 전에\n",
    "\n",
    "1. **GPU 활성화**: 런타임 → 런타임 유형 변경 → GPU ✅\n",
    "2. **프로젝트 가져오기 방법 선택**:\n",
    "   - 방법 1: GitHub (추천) ⭐⭐⭐⭐⭐\n",
    "   - 방법 2: Google Drive ⭐⭐⭐⭐\n",
    "   - 방법 3: 직접 업로드 ⭐⭐⭐\n",
    "\n",
    "아래에서 **하나만 선택**해서 실행하세요!\n",
    "\n",
    "---"
   ]
  },
  {
   "cell_type": "markdown",
   "metadata": {},
   "source": [
    "## Step 0: GPU 확인 ✅"
   ]
  },
  {
   "cell_type": "code",
   "execution_count": null,
   "metadata": {},
   "outputs": [],
   "source": [
    "import torch\n",
    "import sys\n",
    "\n",
    "print(\"=\" * 60)\n",
    "print(\"🔍 시스템 확인\")\n",
    "print(\"=\" * 60)\n",
    "print(f\"Python 버전: {sys.version}\")\n",
    "print(f\"PyTorch 버전: {torch.__version__}\")\n",
    "print(f\"CUDA 사용 가능: {torch.cuda.is_available()}\")\n",
    "\n",
    "if torch.cuda.is_available():\n",
    "    print(f\"✅ GPU 사용 가능!\")\n",
    "    print(f\"   GPU 이름: {torch.cuda.get_device_name(0)}\")\n",
    "    print(f\"   GPU 메모리: {torch.cuda.get_device_properties(0).total_memory / 1e9:.1f} GB\")\n",
    "else:\n",
    "    print(\"⚠️ GPU 사용 불가 - CPU로 학습됩니다 (매우 느림)\")\n",
    "    print(\"   💡 런타임 → 런타임 유형 변경 → GPU 선택하세요!\")\n",
    "print(\"=\" * 60)"
   ]
  },
  {
   "cell_type": "markdown",
   "metadata": {},
   "source": [
    "---\n",
    "# 🚀 프로젝트 가져오기 (3가지 방법 중 1개만 선택!)\n",
    "---"
   ]
  },
  {
   "cell_type": "markdown",
   "metadata": {},
   "source": [
    "## 방법 1: GitHub에서 클론 (가장 추천!) ⭐⭐⭐⭐⭐\n",
    "\n",
    "### 사전 준비:\n",
    "1. GitHub에 프로젝트 업로드 (로컬에서):\n",
    "   ```bash\n",
    "   git init\n",
    "   git add .\n",
    "   git commit -m \"Initial commit\"\n",
    "   git remote add origin https://github.com/YOUR_USERNAME/renewable-energy-forecast.git\n",
    "   git push -u origin main\n",
    "   ```\n",
    "\n",
    "2. 아래 셀에서 **YOUR_USERNAME**을 본인 GitHub 계정으로 변경!"
   ]
  },
  {
   "cell_type": "code",
   "execution_count": null,
   "metadata": {},
   "outputs": [],
   "source": [
    "# 방법 1: GitHub (이 셀만 실행!)\n",
    "\n",
    "# ⚠️ YOUR_USERNAME을 본인 계정으로 변경하세요!\n",
    "GITHUB_USERNAME = \"iris811\"  # <- 여기 수정!\n",
    "REPO_NAME = \"renewable-energy-forecast\"\n",
    "\n",
    "# 기존 폴더가 있으면 삭제\n",
    "!rm -rf {REPO_NAME}\n",
    "\n",
    "# GitHub에서 클론\n",
    "!git clone https://github.com/{GITHUB_USERNAME}/{REPO_NAME}.git\n",
    "\n",
    "# 프로젝트 폴더로 이동\n",
    "%cd {REPO_NAME}\n",
    "\n",
    "print(\"\\n✅ GitHub에서 프로젝트를 가져왔습니다!\")\n",
    "!pwd\n",
    "!ls -la"
   ]
  },
  {
   "cell_type": "markdown",
   "metadata": {},
   "source": [
    "## 방법 2: Google Drive 사용 ⭐⭐⭐⭐\n",
    "\n",
    "### 사전 준비:\n",
    "1. 로컬에서 프로젝트를 zip으로 압축\n",
    "2. Google Drive에 업로드 (예: `My Drive/renewable-energy-forecast.zip`)\n",
    "3. 아래 셀 실행"
   ]
  },
  {
   "cell_type": "code",
   "execution_count": null,
   "metadata": {},
   "outputs": [],
   "source": [
    "# 방법 2: Google Drive (이 셀만 실행!)\n",
    "\n",
    "from google.colab import drive\n",
    "\n",
    "# Google Drive 마운트\n",
    "drive.mount('/content/drive')\n",
    "\n",
    "# 📝 Drive에 저장한 경로로 수정하세요!\n",
    "ZIP_PATH = '/content/drive/MyDrive/renewable-energy-forecast.zip'\n",
    "\n",
    "# 압축 해제\n",
    "!unzip -q {ZIP_PATH}\n",
    "\n",
    "# 프로젝트 폴더로 이동\n",
    "%cd renewable-energy-forecast\n",
    "\n",
    "print(\"\\n✅ Google Drive에서 프로젝트를 가져왔습니다!\")\n",
    "!pwd\n",
    "!ls -la"
   ]
  },
  {
   "cell_type": "markdown",
   "metadata": {},
   "source": [
    "## 방법 3: 직접 업로드 ⭐⭐⭐\n",
    "\n",
    "### 준비:\n",
    "1. 로컬에서 프로젝트를 zip으로 압축\n",
    "2. 아래 셀 실행 후 파일 선택"
   ]
  },
  {
   "cell_type": "code",
   "execution_count": null,
   "metadata": {},
   "outputs": [],
   "source": [
    "# 방법 3: 직접 업로드 (이 셀만 실행!)\n",
    "\n",
    "from google.colab import files\n",
    "\n",
    "print(\"📤 renewable-energy-forecast.zip 파일을 선택하세요...\")\n",
    "uploaded = files.upload()\n",
    "\n",
    "# 업로드된 파일명 찾기\n",
    "zip_file = list(uploaded.keys())[0]\n",
    "\n",
    "# 압축 해제\n",
    "!unzip -q {zip_file}\n",
    "\n",
    "# 프로젝트 폴더로 이동\n",
    "%cd renewable-energy-forecast\n",
    "\n",
    "print(\"\\n✅ 업로드한 프로젝트를 가져왔습니다!\")\n",
    "!pwd\n",
    "!ls -la"
   ]
  },
  {
   "cell_type": "markdown",
   "metadata": {},
   "source": [
    "---\n",
    "# 📦 패키지 설치 및 학습\n",
    "---\n",
    "\n",
    "이제부터는 **모든 방법 동일**합니다!"
   ]
  },
  {
   "cell_type": "markdown",
   "metadata": {},
   "source": [
    "## Step 1: 패키지 설치"
   ]
  },
  {
   "cell_type": "code",
   "execution_count": null,
   "metadata": {},
   "outputs": [],
   "source": [
    "# 필수 패키지 설치\n",
    "print(\"📦 패키지 설치 중...\\n\")\n",
    "\n",
    "!pip install -q torch torchvision\n",
    "!pip install -q pandas numpy scikit-learn\n",
    "!pip install -q sqlalchemy pyyaml tqdm loguru\n",
    "\n",
    "print(\"\\n✅ 패키지 설치 완료!\")"
   ]
  },
  {
   "cell_type": "markdown",
   "metadata": {},
   "source": [
    "## Step 2: 데이터베이스 초기화"
   ]
  },
  {
   "cell_type": "code",
   "execution_count": null,
   "metadata": {},
   "outputs": [],
   "source": [
    "!python scripts/setup_database.py"
   ]
  },
  {
   "cell_type": "markdown",
   "metadata": {},
   "source": [
    "## Step 3: 샘플 데이터 생성"
   ]
  },
  {
   "cell_type": "code",
   "execution_count": null,
   "metadata": {},
   "outputs": [],
   "source": [
    "# 1년치 태양광 데이터 생성\n",
    "!python scripts/generate_sample_data.py --days 365 --capacity 1000\n",
    "\n",
    "# 더 많은 데이터가 필요하면:\n",
    "# !python scripts/generate_sample_data.py --days 730 --capacity 1000"
   ]
  },
  {
   "cell_type": "markdown",
   "metadata": {},
   "source": [
    "## Step 4: 모델 학습 🚀\n",
    "\n",
    "아래 셀 중 **하나만** 실행하세요!"
   ]
  },
  {
   "cell_type": "code",
   "execution_count": null,
   "metadata": {},
   "outputs": [],
   "source": [
    "# 옵션 1: LSTM (빠름, 10-15분)\n",
    "!python scripts/train_model.py \\\n",
    "    --model-type lstm \\\n",
    "    --epochs 100 \\\n",
    "    --batch-size 32 \\\n",
    "    --lr 0.001 \\\n",
    "    --gpu 0"
   ]
  },
  {
   "cell_type": "code",
   "execution_count": null,
   "metadata": {},
   "outputs": [],
   "source": [
    "# 옵션 2: LSTM + Attention (중간, 15-20분)\n",
    "!python scripts/train_model.py \\\n",
    "    --model-type lstm_attention \\\n",
    "    --epochs 100 \\\n",
    "    --batch-size 32 \\\n",
    "    --lr 0.001 \\\n",
    "    --gpu 0"
   ]
  },
  {
   "cell_type": "code",
   "execution_count": null,
   "metadata": {},
   "outputs": [],
   "source": [
    "# 옵션 3: Transformer (고성능, 25-35분)\n",
    "!python scripts/train_model.py \\\n",
    "    --model-type transformer \\\n",
    "    --epochs 150 \\\n",
    "    --batch-size 32 \\\n",
    "    --lr 0.0001 \\\n",
    "    --gpu 0"
   ]
  },
  {
   "cell_type": "markdown",
   "metadata": {},
   "source": [
    "## Step 5: 학습 결과 확인"
   ]
  },
  {
   "cell_type": "code",
   "execution_count": null,
   "metadata": {},
   "outputs": [],
   "source": [
    "# 학습 결과 출력\n",
    "!cat models/checkpoints/training_results.txt"
   ]
  },
  {
   "cell_type": "markdown",
   "metadata": {},
   "source": [
    "## Step 6: 모델 평가 (시각화 포함)"
   ]
  },
  {
   "cell_type": "code",
   "execution_count": null,
   "metadata": {},
   "outputs": [],
   "source": [
    "# 평가 실행\n",
    "!pip install -q matplotlib seaborn plotly  # 시각화 패키지\n",
    "\n",
    "!python scripts/evaluate_model.py \\\n",
    "    --model-path models/checkpoints/best_model.pth \\\n",
    "    --visualize"
   ]
  },
  {
   "cell_type": "markdown",
   "metadata": {},
   "source": [
    "## Step 7: 평가 결과 시각화"
   ]
  },
  {
   "cell_type": "code",
   "execution_count": null,
   "metadata": {},
   "outputs": [],
   "source": [
    "import matplotlib.pyplot as plt\n",
    "from PIL import Image\n",
    "import os\n",
    "\n",
    "# 평가 대시보드 표시\n",
    "dashboard_path = 'evaluation_results/plots/evaluation_dashboard.png'\n",
    "\n",
    "if os.path.exists(dashboard_path):\n",
    "    img = Image.open(dashboard_path)\n",
    "    plt.figure(figsize=(18, 14))\n",
    "    plt.imshow(img)\n",
    "    plt.axis('off')\n",
    "    plt.title('Model Evaluation Dashboard', fontsize=16, pad=20)\n",
    "    plt.tight_layout()\n",
    "    plt.show()\n",
    "else:\n",
    "    print(\"⚠️ 평가 대시보드가 생성되지 않았습니다.\")\n",
    "    print(\"   평가를 --visualize 옵션으로 다시 실행하세요.\")"
   ]
  },
  {
   "cell_type": "markdown",
   "metadata": {},
   "source": [
    "## Step 8: 예측 테스트"
   ]
  },
  {
   "cell_type": "code",
   "execution_count": null,
   "metadata": {},
   "outputs": [],
   "source": [
    "# 예측 실행\n",
    "!python scripts/predict.py"
   ]
  },
  {
   "cell_type": "markdown",
   "metadata": {},
   "source": [
    "---\n",
    "# 💾 결과 다운로드\n",
    "---"
   ]
  },
  {
   "cell_type": "markdown",
   "metadata": {},
   "source": [
    "## 옵션 A: 직접 다운로드 (브라우저)"
   ]
  },
  {
   "cell_type": "code",
   "execution_count": null,
   "metadata": {},
   "outputs": [],
   "source": [
    "# 결과를 zip으로 압축\n",
    "!zip -r training_results.zip \\\n",
    "    models/checkpoints/ \\\n",
    "    models/scalers/ \\\n",
    "    evaluation_results/ \\\n",
    "    logs/app.log\n",
    "\n",
    "print(\"\\n✅ 압축 완료!\")\n",
    "!ls -lh training_results.zip"
   ]
  },
  {
   "cell_type": "code",
   "execution_count": null,
   "metadata": {},
   "outputs": [],
   "source": [
    "# 브라우저로 직접 다운로드\n",
    "from google.colab import files\n",
    "\n",
    "print(\"📥 다운로드 시작...\")\n",
    "files.download('training_results.zip')\n",
    "print(\"\\n✅ 다운로드 완료!\")\n",
    "print(\"   로컬 컴퓨터에 저장되었습니다.\")"
   ]
  },
  {
   "cell_type": "markdown",
   "metadata": {},
   "source": [
    "## 옵션 B: Google Drive에 저장"
   ]
  },
  {
   "cell_type": "code",
   "execution_count": null,
   "metadata": {},
   "outputs": [],
   "source": [
    "# Google Drive가 마운트되어 있지 않다면 먼저 마운트\n",
    "from google.colab import drive\n",
    "import os\n",
    "\n",
    "if not os.path.exists('/content/drive'):\n",
    "    drive.mount('/content/drive')\n",
    "\n",
    "# Drive에 복사\n",
    "!cp training_results.zip /content/drive/MyDrive/\n",
    "\n",
    "print(\"\\n✅ Google Drive에 저장되었습니다!\")\n",
    "print(\"   경로: My Drive/training_results.zip\")"
   ]
  },
  {
   "cell_type": "markdown",
   "metadata": {},
   "source": [
    "---\n",
    "# 📊 요약 및 다음 단계\n",
    "---"
   ]
  },
  {
   "cell_type": "code",
   "execution_count": null,
   "metadata": {},
   "outputs": [],
   "source": [
    "# 최종 요약\n",
    "print(\"=\" * 80)\n",
    "print(\"🎉 학습 완료!\")\n",
    "print(\"=\" * 80)\n",
    "print(\"\\n생성된 파일:\")\n",
    "print(\"  📁 models/checkpoints/best_model.pth      - 최고 성능 모델\")\n",
    "print(\"  📁 models/scalers/*.pkl                   - 데이터 스케일러\")\n",
    "print(\"  📁 evaluation_results/                    - 평가 결과\")\n",
    "print(\"  📁 training_results.zip                   - 전체 결과 압축\")\n",
    "\n",
    "print(\"\\n📥 다음 단계:\")\n",
    "print(\"  1. training_results.zip 다운로드\")\n",
    "print(\"  2. 로컬 프로젝트 폴더에 압축 해제\")\n",
    "print(\"  3. API 서버 실행: python -m uvicorn api.main:app --reload\")\n",
    "print(\"  4. Dashboard 실행: streamlit run dashboard/app.py\")\n",
    "\n",
    "print(\"\\n💡 Colab 세션 정보:\")\n",
    "import time\n",
    "print(f\"  현재 시간: {time.strftime('%Y-%m-%d %H:%M:%S')}\")\n",
    "print(f\"  ⚠️ Colab은 12시간 후 자동 종료됩니다!\")\n",
    "print(f\"  💾 주기적으로 결과를 저장하세요.\")\n",
    "print(\"=\" * 80)"
   ]
  },
  {
   "cell_type": "markdown",
   "metadata": {},
   "source": [
    "---\n",
    "# 🔧 문제 해결\n",
    "---\n",
    "\n",
    "### GPU 사용 안 됨\n",
    "- 런타임 → 런타임 유형 변경 → GPU 선택\n",
    "- 노트북 재시작\n",
    "\n",
    "### 패키지 에러\n",
    "```python\n",
    "!pip install --upgrade torch pandas numpy scikit-learn\n",
    "```\n",
    "\n",
    "### 메모리 부족\n",
    "```python\n",
    "# 배치 크기 줄이기\n",
    "!python scripts/train_model.py --batch-size 16 --epochs 50\n",
    "```\n",
    "\n",
    "### 세션 타임아웃\n",
    "- 중간에 저장하기\n",
    "- Drive에 자동 백업하기\n",
    "\n",
    "---\n",
    "\n",
    "**Happy Training! 🚀☁️**"
   ]
  }
 ],
 "metadata": {
  "accelerator": "GPU",
  "colab": {
   "provenance": [],
   "gpuType": "T4",
   "toc_visible": true
  },
  "kernelspec": {
   "display_name": "Python 3",
   "name": "python3"
  },
  "language_info": {
   "name": "python"
  }
 },
 "nbformat": 4,
 "nbformat_minor": 0
}
