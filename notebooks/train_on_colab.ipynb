{
 "cells": [
  {
   "cell_type": "markdown",
   "metadata": {
    "id": "header"
   },
   "source": [
    "# ⚡ Renewable Energy Forecasting - Google Colab Training\n",
    "\n",
    "이 노트북으로 Google Colab의 **무료 GPU**를 사용해서 모델을 학습할 수 있습니다!\n",
    "\n",
    "## 🚀 시작하기 전에\n",
    "\n",
    "1. **런타임 > 런타임 유형 변경 > GPU 선택** ✅\n",
    "2. 모든 셀을 순서대로 실행하세요\n",
    "\n",
    "---"
   ]
  },
  {
   "cell_type": "markdown",
   "metadata": {},
   "source": [
    "## 1️⃣ GPU 확인"
   ]
  },
  {
   "cell_type": "code",
   "execution_count": null,
   "metadata": {},
   "outputs": [],
   "source": [
    "import torch\n",
    "\n",
    "# GPU 사용 가능 여부 확인\n",
    "if torch.cuda.is_available():\n",
    "    print(f\"✅ GPU 사용 가능!\")\n",
    "    print(f\"GPU 이름: {torch.cuda.get_device_name(0)}\")\n",
    "    print(f\"GPU 메모리: {torch.cuda.get_device_properties(0).total_memory / 1e9:.2f} GB\")\n",
    "else:\n",
    "    print(\"❌ GPU 사용 불가 - CPU로 학습됩니다 (느림)\")\n",
    "    print(\"런타임 > 런타임 유형 변경 > GPU 선택하세요!\")"
   ]
  },
  {
   "cell_type": "markdown",
   "metadata": {},
   "source": [
    "## 2️⃣ 프로젝트 다운로드 (GitHub에서)"
   ]
  },
  {
   "cell_type": "code",
   "execution_count": null,
   "metadata": {},
   "outputs": [],
   "source": [
    "# GitHub에서 프로젝트 클론 (본인의 GitHub 주소로 변경)\n",
    "!git clone https://github.com/yourusername/renewable-energy-forecast.git\n",
    "%cd renewable-energy-forecast"
   ]
  },
  {
   "cell_type": "markdown",
   "metadata": {},
   "source": [
    "### 💡 GitHub 없이 파일 업로드하는 방법\n",
    "\n",
    "GitHub에 올리지 않았다면:"
   ]
  },
  {
   "cell_type": "code",
   "execution_count": null,
   "metadata": {},
   "outputs": [],
   "source": [
    "# 왼쪽 파일 탭에서 프로젝트 폴더를 압축(zip)해서 업로드\n",
    "# 그 다음 압축 해제\n",
    "# !unzip renewable-energy-forecast.zip\n",
    "# %cd renewable-energy-forecast"
   ]
  },
  {
   "cell_type": "markdown",
   "metadata": {},
   "source": [
    "## 3️⃣ 패키지 설치"
   ]
  },
  {
   "cell_type": "code",
   "execution_count": null,
   "metadata": {},
   "outputs": [],
   "source": [
    "# 필요한 패키지 설치\n",
    "!pip install -q torch torchvision\n",
    "!pip install -q pandas numpy scikit-learn\n",
    "!pip install -q sqlalchemy pyyaml tqdm loguru\n",
    "\n",
    "print(\"✅ 패키지 설치 완료!\")"
   ]
  },
  {
   "cell_type": "markdown",
   "metadata": {},
   "source": [
    "## 4️⃣ 데이터베이스 초기화"
   ]
  },
  {
   "cell_type": "code",
   "execution_count": null,
   "metadata": {},
   "outputs": [],
   "source": [
    "# 데이터베이스 초기화\n",
    "!python scripts/setup_database.py"
   ]
  },
  {
   "cell_type": "markdown",
   "metadata": {},
   "source": [
    "## 5️⃣ 샘플 데이터 생성"
   ]
  },
  {
   "cell_type": "code",
   "execution_count": null,
   "metadata": {},
   "outputs": [],
   "source": [
    "# 1년치 태양광 데이터 생성 (기본)\n",
    "!python scripts/generate_sample_data.py --days 365 --capacity 1000\n",
    "\n",
    "# 더 많은 데이터를 원하면 (2년치):\n",
    "# !python scripts/generate_sample_data.py --days 730 --capacity 1000"
   ]
  },
  {
   "cell_type": "markdown",
   "metadata": {},
   "source": [
    "## 6️⃣ 모델 학습 🚀\n",
    "\n",
    "여러 모델을 학습할 수 있습니다. 원하는 것을 선택하세요!"
   ]
  },
  {
   "cell_type": "markdown",
   "metadata": {},
   "source": [
    "### Option 1: LSTM 모델 (빠름, 기본)"
   ]
  },
  {
   "cell_type": "code",
   "execution_count": null,
   "metadata": {},
   "outputs": [],
   "source": [
    "# LSTM 학습 (약 10-15분)\n",
    "!python scripts/train_model.py \\\n",
    "    --model-type lstm \\\n",
    "    --epochs 100 \\\n",
    "    --batch-size 32 \\\n",
    "    --lr 0.001 \\\n",
    "    --gpu 0"
   ]
  },
  {
   "cell_type": "markdown",
   "metadata": {},
   "source": [
    "### Option 2: LSTM + Attention (중간)"
   ]
  },
  {
   "cell_type": "code",
   "execution_count": null,
   "metadata": {},
   "outputs": [],
   "source": [
    "# LSTM with Attention 학습 (약 15-20분)\n",
    "!python scripts/train_model.py \\\n",
    "    --model-type lstm_attention \\\n",
    "    --epochs 100 \\\n",
    "    --batch-size 32 \\\n",
    "    --lr 0.001 \\\n",
    "    --gpu 0"
   ]
  },
  {
   "cell_type": "markdown",
   "metadata": {},
   "source": [
    "### Option 3: Transformer (고성능, 느림)"
   ]
  },
  {
   "cell_type": "code",
   "execution_count": null,
   "metadata": {},
   "outputs": [],
   "source": [
    "# Transformer 학습 (약 25-35분)\n",
    "!python scripts/train_model.py \\\n",
    "    --model-type transformer \\\n",
    "    --epochs 150 \\\n",
    "    --batch-size 32 \\\n",
    "    --lr 0.0001 \\\n",
    "    --gpu 0"
   ]
  },
  {
   "cell_type": "markdown",
   "metadata": {},
   "source": [
    "## 7️⃣ 모델 평가"
   ]
  },
  {
   "cell_type": "code",
   "execution_count": null,
   "metadata": {},
   "outputs": [],
   "source": [
    "# 학습된 모델 평가\n",
    "!python scripts/evaluate_model.py \\\n",
    "    --model-path models/checkpoints/best_model.pth \\\n",
    "    --visualize"
   ]
  },
  {
   "cell_type": "markdown",
   "metadata": {},
   "source": [
    "## 8️⃣ 학습 결과 확인"
   ]
  },
  {
   "cell_type": "code",
   "execution_count": null,
   "metadata": {},
   "outputs": [],
   "source": [
    "# 학습 결과 출력\n",
    "!cat models/checkpoints/training_results.txt"
   ]
  },
  {
   "cell_type": "markdown",
   "metadata": {},
   "source": [
    "## 9️⃣ 예측 테스트"
   ]
  },
  {
   "cell_type": "code",
   "execution_count": null,
   "metadata": {},
   "outputs": [],
   "source": [
    "# 예측 실행\n",
    "!python scripts/predict.py"
   ]
  },
  {
   "cell_type": "markdown",
   "metadata": {},
   "source": [
    "## 🔟 결과 다운로드\n",
    "\n",
    "학습이 완료되면 결과를 다운로드하세요!"
   ]
  },
  {
   "cell_type": "code",
   "execution_count": null,
   "metadata": {},
   "outputs": [],
   "source": [
    "# 결과 파일을 zip으로 압축\n",
    "!zip -r training_results.zip \\\n",
    "    models/checkpoints/ \\\n",
    "    models/scalers/ \\\n",
    "    evaluation_results/ \\\n",
    "    logs/\n",
    "\n",
    "print(\"✅ 압축 완료! 왼쪽 파일 탭에서 training_results.zip을 다운로드하세요.\")"
   ]
  },
  {
   "cell_type": "code",
   "execution_count": null,
   "metadata": {},
   "outputs": [],
   "source": [
    "# Colab에서 직접 다운로드\n",
    "from google.colab import files\n",
    "files.download('training_results.zip')"
   ]
  },
  {
   "cell_type": "markdown",
   "metadata": {},
   "source": [
    "## 📊 결과 시각화 (선택사항)"
   ]
  },
  {
   "cell_type": "code",
   "execution_count": null,
   "metadata": {},
   "outputs": [],
   "source": [
    "import matplotlib.pyplot as plt\n",
    "from PIL import Image\n",
    "\n",
    "# 평가 대시보드 이미지 표시\n",
    "dashboard_path = 'evaluation_results/plots/evaluation_dashboard.png'\n",
    "if os.path.exists(dashboard_path):\n",
    "    img = Image.open(dashboard_path)\n",
    "    plt.figure(figsize=(16, 12))\n",
    "    plt.imshow(img)\n",
    "    plt.axis('off')\n",
    "    plt.show()\n",
    "else:\n",
    "    print(\"시각화 파일이 없습니다. --visualize 옵션으로 평가를 실행하세요.\")"
   ]
  },
  {
   "cell_type": "markdown",
   "metadata": {},
   "source": [
    "## 🎉 완료!\n",
    "\n",
    "### 다음 단계:\n",
    "\n",
    "1. **결과 다운로드**: `training_results.zip` 파일을 로컬에 다운로드\n",
    "2. **로컬에 복사**: 다운로드한 파일을 프로젝트 폴더에 압축 해제\n",
    "3. **API/Dashboard 실행**: 로컬 컴퓨터에서 API나 Dashboard 실행\n",
    "\n",
    "```bash\n",
    "# 로컬 컴퓨터에서\n",
    "unzip training_results.zip\n",
    "python -m uvicorn api.main:app --reload\n",
    "streamlit run dashboard/app.py\n",
    "```\n",
    "\n",
    "### 💡 팁:\n",
    "\n",
    "- Colab은 **12시간 후** 자동 종료됩니다\n",
    "- 주기적으로 결과를 다운로드하세요\n",
    "- GPU 사용 시간은 제한이 있으니 효율적으로 사용하세요\n",
    "\n",
    "---\n",
    "\n",
    "**Happy Training! 🚀**"
   ]
  }
 ],
 "metadata": {
  "accelerator": "GPU",
  "colab": {
   "provenance": [],
   "gpuType": "T4"
  },
  "kernelspec": {
   "display_name": "Python 3",
   "name": "python3"
  },
  "language_info": {
   "name": "python"
  }
 },
 "nbformat": 4,
 "nbformat_minor": 0
}
